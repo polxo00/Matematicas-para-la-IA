{
  "cells": [
    {
      "cell_type": "markdown",
      "metadata": {
        "id": "view-in-github",
        "colab_type": "text"
      },
      "source": [
        "<a href=\"https://colab.research.google.com/github/polxo00/Matematicas-para-la-IA/blob/main/EjerciciosEntregables_Pol_Jorba.ipynb\" target=\"_parent\"><img src=\"https://colab.research.google.com/assets/colab-badge.svg\" alt=\"Open In Colab\"/></a>"
      ]
    },
    {
      "cell_type": "markdown",
      "id": "6e203a18-2cf3-4bb9-970c-23e2d960be60",
      "metadata": {
        "id": "6e203a18-2cf3-4bb9-970c-23e2d960be60"
      },
      "source": [
        "### Ejercicios Evaluables\n",
        "#### Pol Jorba Lloses\n",
        "\n",
        "https://github.com/polxo00/Matematicas-para-la-IA/blob/main/EjerciciosEntregables_Pol_Jorba.ipynb"
      ]
    },
    {
      "cell_type": "markdown",
      "id": "8ffbc3a8-a46f-4840-8cab-569694bc9d53",
      "metadata": {
        "id": "8ffbc3a8-a46f-4840-8cab-569694bc9d53"
      },
      "source": [
        "**1. Tal y como ya hemos visto en clase, la variedad de herramientas proporcionadas por el álgebra lineal son cruciales para desarrollar y fundamentar las bases de una variedad de técnicas relacionadas con el aprendizaje automático. Con ella, podemos describir el proceso de propagación hacia adelante en una red neuronal, identificar mínimos locales en funciones multivariables (crucial para el proceso de retropropagación) o la descripción y empleo de métodos de reducción de la dimensionalidad, como el análisis de componentes principales (PCA), entre muchas otras aplicaciones. Cuando trabajamos en la práctica dentro de este ámbito, la cantidad de datos que manejamos puede ser muy grande, por lo que es especialmente importante emplear algoritmos eficientes y optimizados para reducir el coste computacional en la medida de lo posible. Por todo ello, el objetivo de este ejercicio es el de ilustrar las diferentes alternativas que pueden existir para realizar un proceso relacionado con el álgebra lineal y el impacto que puede tener cada variante en t´erminos del coste computacional del mismo. En este caso en particular, y a modo de ilustración, nos centraremos en el cálculo del determinante de una matriz.**"
      ]
    },
    {
      "cell_type": "code",
      "execution_count": null,
      "id": "90b68740-7b19-4709-9ba9-008edf2321e3",
      "metadata": {
        "id": "90b68740-7b19-4709-9ba9-008edf2321e3"
      },
      "outputs": [],
      "source": [
        "import numpy as np\n",
        "import time\n",
        "import random\n",
        "import pandas as pd"
      ]
    },
    {
      "cell_type": "markdown",
      "id": "fde0bc6d-428a-4aa2-b381-78caba094b59",
      "metadata": {
        "id": "fde0bc6d-428a-4aa2-b381-78caba094b59"
      },
      "source": [
        "**a) [1 punto] Implementa una función, *determinante_recursivo*, que obtenga el determinante de una matriz cuadrada utilizando la definición recursiva de Laplace.**"
      ]
    },
    {
      "cell_type": "code",
      "execution_count": null,
      "id": "6dad3401-a9f3-499b-aea1-e0fa2c2498ab",
      "metadata": {
        "id": "6dad3401-a9f3-499b-aea1-e0fa2c2498ab"
      },
      "outputs": [],
      "source": [
        "def determinante_recursivo(matriz):\n",
        "\n",
        "    n = len(matriz)\n",
        "    # Comprovar si la matriz es quadrada\n",
        "    for fila in matriz:\n",
        "        if len(fila) != n:\n",
        "            raise ValueError(\"La matriz deve ser quadrada.\")\n",
        "\n",
        "    # Matriz 1x1\n",
        "    if n == 1:\n",
        "        return matriz[0][0]\n",
        "\n",
        "    # Matriz 2x2\n",
        "    if n == 2:\n",
        "        return matriz[0][0] * matriz[1][1] - matriz[0][1] * matriz[1][0]\n",
        "\n",
        "    determinante = 0\n",
        "    # Iteremos la primera fila para calcular el determinante\n",
        "    for j in range(n):\n",
        "        # Calculamos el menor M_0j\n",
        "        submatriz = []\n",
        "        for r in range(1, n):  # Iteremos la segunda fila\n",
        "            nueva_fila = []\n",
        "            for c in range(n):\n",
        "                if c != j:\n",
        "                    nueva_fila.append(matriz[r][c])\n",
        "            submatriz.append(nueva_fila)\n",
        "\n",
        "        # Calcular el cofactor C_0j = (-1)^(0+j) * M_0j\n",
        "        # (-1)^(0+j) és 1 si j és par, i -1 si j és impar\n",
        "        signo = (-1)**j\n",
        "\n",
        "        # Sumamos el producto del elemento por su cofactor\n",
        "        determinante += signo * matriz[0][j] * determinante_recursivo(submatriz)\n",
        "\n",
        "    return determinante"
      ]
    },
    {
      "cell_type": "code",
      "execution_count": null,
      "id": "54973fab-44c2-494d-8f53-97215ec0aea7",
      "metadata": {
        "id": "54973fab-44c2-494d-8f53-97215ec0aea7",
        "outputId": "2c315ad9-b5e3-4eea-f43a-06ce913288d6"
      },
      "outputs": [
        {
          "data": {
            "text/plain": [
              "-306"
            ]
          },
          "execution_count": 110,
          "metadata": {},
          "output_type": "execute_result"
        }
      ],
      "source": [
        "matriz = [[6, 1, 1],[4, -2, 5],[2, 8, 7]]\n",
        "determinante_recursivo(matriz)\n",
        "\n"
      ]
    },
    {
      "cell_type": "code",
      "execution_count": null,
      "id": "2962c9b2-dac5-48c8-8b8a-1906ccb345c8",
      "metadata": {
        "id": "2962c9b2-dac5-48c8-8b8a-1906ccb345c8",
        "outputId": "3bedff89-3a95-4875-8673-08218a65ff88"
      },
      "outputs": [
        {
          "data": {
            "text/plain": [
              "30"
            ]
          },
          "execution_count": 111,
          "metadata": {},
          "output_type": "execute_result"
        }
      ],
      "source": [
        "matriz = [[1, 0, 2, -1],[3, 0, 0, 5],[2, 1, 4, -3],[1, 0, 5, 0]]\n",
        "determinante_recursivo(matriz)"
      ]
    },
    {
      "cell_type": "markdown",
      "id": "a67bb334-3462-42e8-9b29-060aa6ed3674",
      "metadata": {
        "id": "a67bb334-3462-42e8-9b29-060aa6ed3674"
      },
      "source": [
        "**b) [0.5 puntos] Si A es una matriz cuadrada n×n y triangular (superior o inferior, es decir,\n",
        "con entradas nulas por debajo o por encima de la diagonal, respectivamente), ¿existe\n",
        "alguna forma de calcular de forma directa y sencilla su determinante? Justifíquese la\n",
        "respuesta.**"
      ]
    },
    {
      "cell_type": "markdown",
      "id": "ccf1bf77-e4ab-4a6d-b923-2430171395a3",
      "metadata": {
        "id": "ccf1bf77-e4ab-4a6d-b923-2430171395a3"
      },
      "source": [
        "Si, existe una forma directa y sencilla para calcular el determinante de una matriz cuadrada triangular. El determinante es el producto de los elementos de su diagonal principal.\n",
        "\n",
        "Esto se cumple porque, en una matriz triangular, el desarrollo del determinante por cofactores en cualquier fila o columna que contenga ceros fuera de la diagonal elimina esos términos y el cálculo se reduce a multiplicar los elementos de la diagonal principal.\n",
        "\n",
        "Vamos a verificar-lo con la funcion anterior."
      ]
    },
    {
      "cell_type": "code",
      "execution_count": null,
      "id": "f9f731ae-877e-4939-9533-fafa54717f0c",
      "metadata": {
        "id": "f9f731ae-877e-4939-9533-fafa54717f0c",
        "outputId": "4ddb681c-7542-444a-c2da-cfd1a5da4ca2"
      },
      "outputs": [
        {
          "name": "stdout",
          "output_type": "stream",
          "text": [
            "El determinante calculado con la función recursiva es -84 y el calculado con el producto de su diagonal es -84\n"
          ]
        }
      ],
      "source": [
        "matriz = [[6, 1, 1],\n",
        "          [0, -2, 5],\n",
        "          [0, 0, 7]]\n",
        "det_recursivo = determinante_recursivo(matriz)\n",
        "det_triang = matriz[0][0] * matriz[1][1] * matriz[2][2]\n",
        "\n",
        "print(f\"El determinante calculado con la función recursiva es {det_recursivo} y el calculado con el producto de su diagonal es {det_triang}\")"
      ]
    },
    {
      "cell_type": "markdown",
      "id": "473582c3-5718-4295-bb54-9f6f3d279354",
      "metadata": {
        "id": "473582c3-5718-4295-bb54-9f6f3d279354"
      },
      "source": [
        "**c) [0.5 puntos] Determínese de forma justificada cómo alteran el determinante de una\n",
        "matriz n × n las dos operaciones elementales siguientes**\n",
        "\n",
        "- Intercambiar una fila (o columna) por otra fila (o columna).\n",
        "  \n",
        "- Sumar a una fila (o columna) otra fila (o columna) multiplicada por un escalar α."
      ]
    },
    {
      "cell_type": "markdown",
      "id": "30201ad8-2877-4a06-a267-df793209ff93",
      "metadata": {
        "id": "30201ad8-2877-4a06-a267-df793209ff93"
      },
      "source": [
        "Al intercambiar una fila o columna por otra fila o columna el determinante cambia de signo. Esto ocurre porque el determinante depende del orden de las filas, y por lo tanto si cambias el orden, también cambias el signo del determinante."
      ]
    },
    {
      "cell_type": "code",
      "execution_count": null,
      "id": "d4b83206-3419-4cde-bbbe-ef38562c17f9",
      "metadata": {
        "id": "d4b83206-3419-4cde-bbbe-ef38562c17f9",
        "outputId": "f00cfdbf-8307-4296-d196-629b4c533c0f"
      },
      "outputs": [
        {
          "name": "stdout",
          "output_type": "stream",
          "text": [
            "determinante de la matriz original -212 y determinante de la matriz con una fila intercambiada 212\n"
          ]
        }
      ],
      "source": [
        "matriz1 = [[6, 1, 1],\n",
        "          [3, -2, 5],\n",
        "          [4, 5, 7]]\n",
        "matriz2 = [[3, -2, 5],\n",
        "          [6, 1, 1],\n",
        "          [4, 5, 7]]\n",
        "det_1 = determinante_recursivo(matriz1)\n",
        "det_2 = determinante_recursivo(matriz2)\n",
        "print(f\"determinante de la matriz original {det_1} y determinante de la matriz con una fila intercambiada {det_2}\")"
      ]
    },
    {
      "cell_type": "markdown",
      "id": "d0bf96bf-7c89-4851-9cf2-647d09c91962",
      "metadata": {
        "id": "d0bf96bf-7c89-4851-9cf2-647d09c91962"
      },
      "source": [
        "En el caso de sumar a una fila (o columna) otra fila (o columna) multiplicada por un escalar α el determinante no cambia.\n",
        "Esto ocurre porque con esta operación no estamos cambiando la dirección de esta fila o columna, solo la estamos combinando con otra, y por lo tanto, esa operación no afecta al área o volumen que representa el determinante"
      ]
    },
    {
      "cell_type": "code",
      "execution_count": null,
      "id": "7a1bc94d-a53f-4ee5-9d82-9217e3d7e2fe",
      "metadata": {
        "id": "7a1bc94d-a53f-4ee5-9d82-9217e3d7e2fe",
        "outputId": "e829efc8-b3bc-4d5c-844d-25408aa85c99"
      },
      "outputs": [
        {
          "name": "stdout",
          "output_type": "stream",
          "text": [
            "Matriz original:\n",
            "[6, 1, 1]\n",
            "[3, -2, 5]\n",
            "[4, 5, 7]\n",
            "\n",
            "\n",
            "Fila intercambiada multiplicada por alpha:\n",
            "[6, 1, 1]\n",
            "[15, 0, 7]\n",
            "[4, 5, 7]\n",
            "\n",
            "\n",
            "Determinante de la matriz original: -212 y determinante después de sumar 2*fila0 a fila1: -212\n"
          ]
        }
      ],
      "source": [
        "matriz1 = [[6, 1, 1],\n",
        "           [3, -2, 5],\n",
        "           [4, 5, 7]]\n",
        "\n",
        "matriz2 = [[6, 1, 1],\n",
        "           [3, -2, 5],\n",
        "           [4, 5, 7]]\n",
        "\n",
        "# Operación: fila1 = fila1 + 2 * fila0\n",
        "alpha = 2\n",
        "for i in range(len(matriz1[0])):\n",
        "    matriz2[1][i] += alpha * matriz1[0][i]\n",
        "\n",
        "det_1 = determinante_recursivo(matriz1)\n",
        "det_2 = determinante_recursivo(matriz2)\n",
        "\n",
        "print(\"Matriz original:\")\n",
        "for fila in matriz1:\n",
        "    print(fila)\n",
        "print(\"\\n\")\n",
        "\n",
        "print(\"Fila intercambiada multiplicada por alpha:\")\n",
        "for fila in matriz2:\n",
        "    print(fila)\n",
        "print(\"\\n\")\n",
        "\n",
        "print(f\"Determinante de la matriz original: {det_1} y determinante después de sumar {alpha}*fila0 a fila1: {det_2}\")"
      ]
    },
    {
      "cell_type": "markdown",
      "id": "3836dbc3-dd56-4434-862b-aa470cd7dde5",
      "metadata": {
        "id": "3836dbc3-dd56-4434-862b-aa470cd7dde5"
      },
      "source": [
        "**d) [1 punto] Investiga sobre el método de eliminación de Gauss con pivoteo parcial e\n",
        "impleméntalo para escalonar una matriz (es decir, convertirla en una matriz triangular\n",
        "inferior) a partir de las operaciones elementales descritas en el apartado anterior.**"
      ]
    },
    {
      "cell_type": "markdown",
      "id": "52be22fe-7631-401b-b662-88e9fc3979e1",
      "metadata": {
        "id": "52be22fe-7631-401b-b662-88e9fc3979e1"
      },
      "source": [
        "El método de eliminación de Gauss con pivoteo parcial transforma cualquier matriz A a una matriz escalonada usando solo las operaciones del apartado anterior.\n",
        "\n",
        "Esto funciona seleccionando los pivotes, es decir los elementos de la diagonal principal, para modificar todos los valores que estan debajo en la misma columna a cero utilizando solo las operaciones del apartado anterior que solo modifican el signo."
      ]
    },
    {
      "cell_type": "code",
      "execution_count": null,
      "id": "a1351dae-0db0-468f-b23b-3ca75fb29d68",
      "metadata": {
        "id": "a1351dae-0db0-468f-b23b-3ca75fb29d68"
      },
      "outputs": [],
      "source": [
        "def gauss_pivoteo_parcial(matriz):\n",
        "    n = len(matriz)\n",
        "    # Comprovar si la matriz es quadrada\n",
        "    for fila in matriz:\n",
        "        if len(fila) != n:\n",
        "            raise ValueError(\"La matriz deve ser quadrada.\")\n",
        "\n",
        "    A = [fila[:] for fila in matriz]\n",
        "    intercambios = 0\n",
        "\n",
        "    for k in range(n-1):\n",
        "        # Pivoteo parcial\n",
        "        max_index = max(range(k, n), key=lambda i: abs(A[i][k]))\n",
        "        # Intercanviar filas\n",
        "        if max_index != k:\n",
        "            A[k], A[max_index] = A[max_index], A[k]\n",
        "            intercambios += 1\n",
        "\n",
        "        # Empezar eliminación\n",
        "        for i in range(k+1, n):\n",
        "            if A[k][k] == 0:\n",
        "                continue  # Evitar división por cero\n",
        "\n",
        "            factor = A[i][k] / A[k][k]\n",
        "            A[i][k] = 0\n",
        "\n",
        "            # Restar la fila k multiplicada p factor a la fila i\n",
        "            for j in range(k+1, n):\n",
        "                A[i][j] -= factor * A[k][j]\n",
        "\n",
        "\n",
        "    return A, intercambios\n"
      ]
    },
    {
      "cell_type": "code",
      "execution_count": null,
      "id": "b8be0275-beea-4c3a-a283-6cbf033395e2",
      "metadata": {
        "id": "b8be0275-beea-4c3a-a283-6cbf033395e2",
        "outputId": "761c6140-7a9e-46e3-ca8e-19466bf3b55f"
      },
      "outputs": [
        {
          "name": "stdout",
          "output_type": "stream",
          "text": [
            "Matriz escalonada:\n",
            "[6, 1, 1]\n",
            "[0, 4.333333333333333, 6.333333333333333]\n",
            "[0, 0, 8.153846153846153]\n"
          ]
        }
      ],
      "source": [
        "matriz = [[6, 1, 1],\n",
        "           [3, -2, 5],\n",
        "           [4, 5, 7]]\n",
        "\n",
        "matriz_escalonada,_ = gauss_pivoteo_parcial(matriz)\n",
        "\n",
        "print(\"Matriz escalonada:\")\n",
        "for fila in matriz_escalonada:\n",
        "    print(fila)"
      ]
    },
    {
      "cell_type": "markdown",
      "id": "8ae15dca-e154-4ee2-bdf5-2a800a239fd2",
      "metadata": {
        "id": "8ae15dca-e154-4ee2-bdf5-2a800a239fd2"
      },
      "source": [
        "**e) [0.5 puntos] ¿Cómo se podría calcular el determinante de una matriz haciendo beneficio\n",
        "de la estrategia anterior y del efecto de aplicar las operaciones elementales pertinentes?\n",
        "Implementa una nueva función, determinante gauss, que calcule el determinante de\n",
        "una matriz utilizando eliminación gaussiana.**"
      ]
    },
    {
      "cell_type": "code",
      "execution_count": null,
      "id": "64d01453-f253-45a6-825a-875354ae47df",
      "metadata": {
        "id": "64d01453-f253-45a6-825a-875354ae47df"
      },
      "outputs": [],
      "source": [
        "def determinante_gauss(matriz):\n",
        "    n = len(matriz)\n",
        "    A = [fila[:] for fila in matriz]\n",
        "    det = 1\n",
        "    matriz_escalonada, intercambios = gauss_pivoteo_parcial(A)\n",
        "    # ya hemos escalonado la matriz, ahora multiplica la diagonal para saber el valor del determinante.\n",
        "    for i in range(n):\n",
        "        det *= matriz_escalonada[i][i]\n",
        "\n",
        "    # ajustamos el simbolo del determinante segun el numero de intercambios\n",
        "    det *= (-1) ** intercambios\n",
        "\n",
        "    return det"
      ]
    },
    {
      "cell_type": "code",
      "execution_count": null,
      "id": "b124cd74-e52a-4fd7-a92f-8e7a62db3844",
      "metadata": {
        "id": "b124cd74-e52a-4fd7-a92f-8e7a62db3844",
        "outputId": "6e1214f4-e668-4274-ee8e-e88c3ac86501"
      },
      "outputs": [
        {
          "name": "stdout",
          "output_type": "stream",
          "text": [
            "Determinante utilizando eliminación gaussiana: -212.0 determinante utilizando metodo recursivo: -212\n"
          ]
        }
      ],
      "source": [
        "matriz = [[6, 1, 1],\n",
        "           [3, -2, 5],\n",
        "           [4, 5, 7]]\n",
        "det = determinante_gauss(matriz)\n",
        "det_recursivo = determinante_recursivo(matriz)\n",
        "print(f\"Determinante utilizando eliminación gaussiana: {det} determinante utilizando metodo recursivo: {det_recursivo}\")"
      ]
    },
    {
      "cell_type": "markdown",
      "id": "d37318c3-621e-4396-b49e-c4eca3dd07fd",
      "metadata": {
        "id": "d37318c3-621e-4396-b49e-c4eca3dd07fd"
      },
      "source": [
        "**f) [0.5 puntos] Obtén la complejidad computacional asociada al cálculo del determinante con la definición recursiva y con el método de eliminación de Gauss con pivoteo parcial.**"
      ]
    },
    {
      "cell_type": "markdown",
      "id": "89bf5a8b-5a66-48e7-acec-57c367e5ed66",
      "metadata": {
        "id": "89bf5a8b-5a66-48e7-acec-57c367e5ed66"
      },
      "source": [
        "La compejidad computacional del cálculo del determinante con la definición recursiva es O(n!) porque cada vez que se aplica la recursividad se divide el problema en n subproblemas de tamaño (n-1)*(n-1) haciendo que la complejidad se vuelva factorial. Por lo tanto es un metodo que funcional pero muy ineficiente para matrices grandes.\n",
        "\n",
        "En cambio, con el metodo de eliminación de Gauss con pivoteo parcial la complejidad se reduce a O(n<sup>3</sup>) porque primero busca el mayor pivote O(n) y después elimina los valores por debajo del pivote por cada fila hasta n columnas O(n<sup>2</sup>)."
      ]
    },
    {
      "cell_type": "code",
      "execution_count": null,
      "id": "35e7f928-db46-4ce9-9ee8-012afe7fa30c",
      "metadata": {
        "id": "35e7f928-db46-4ce9-9ee8-012afe7fa30c"
      },
      "outputs": [],
      "source": [
        "def comparar_tiempo_gauss_recursivo(orden_matriz):\n",
        "    matriz = [[random.randint(-10, 10) for _ in range(orden_matriz)] for _ in range(orden_matriz)]\n",
        "\n",
        "    start_gauss = time.time()\n",
        "    det = determinante_gauss(matriz)\n",
        "    end_gauss = time.time()\n",
        "    tiempo_gauss = end_gauss - start_gauss\n",
        "\n",
        "    start_recursiu = time.time()\n",
        "    det_recursivo = determinante_recursivo(matriz)\n",
        "    end_recursiu = time.time()\n",
        "    tiempo_recursiu = end_recursiu - start_recursiu\n",
        "\n",
        "    print(f\"Determinante (Gauss): {det}  Tiempo: {tiempo_gauss:.6f} s\")\n",
        "    print(f\"Determinante (Recursivo): {det_recursivo}  Tiempo: {tiempo_recursiu:.6f} s\")\n"
      ]
    },
    {
      "cell_type": "code",
      "execution_count": null,
      "id": "adfbc3ab-6a88-4a0e-956e-ace96d29da3e",
      "metadata": {
        "id": "adfbc3ab-6a88-4a0e-956e-ace96d29da3e",
        "outputId": "e27210d9-0a8e-473f-db12-a03bb80d4f27"
      },
      "outputs": [
        {
          "name": "stdout",
          "output_type": "stream",
          "text": [
            "Determinante (Gauss): -1236312.0000000002  Tiempo: 0.000000 s\n",
            "Determinante (Recursivo): -1236312  Tiempo: 0.008242 s\n"
          ]
        }
      ],
      "source": [
        "comparar_tiempo_gauss_recursivo(6)"
      ]
    },
    {
      "cell_type": "code",
      "execution_count": null,
      "id": "c2bb3d86-2269-4974-9524-c5a4d5dd757d",
      "metadata": {
        "id": "c2bb3d86-2269-4974-9524-c5a4d5dd757d",
        "outputId": "9708779c-e421-43f0-a246-7982078d6dcf"
      },
      "outputs": [
        {
          "name": "stdout",
          "output_type": "stream",
          "text": [
            "Determinante (Gauss): -78027892229.0  Tiempo: 0.000000 s\n",
            "Determinante (Recursivo): -78027892229  Tiempo: 7.801835 s\n"
          ]
        }
      ],
      "source": [
        "comparar_tiempo_gauss_recursivo(10)"
      ]
    },
    {
      "cell_type": "markdown",
      "id": "4294954f-bfa5-44df-bf69-25b1dd7cb7bc",
      "metadata": {
        "id": "4294954f-bfa5-44df-bf69-25b1dd7cb7bc"
      },
      "source": [
        "**g) [1 punto] Utilizando numpy.random.rand, genera matrices cuadradas aleatorias de la\n",
        "forma An ∈ R\n",
        "n×n\n",
        ", para 2 ≤ n ≤ 10, y confecciona una tabla comparativa del tiempo de\n",
        "ejecución asociado a cada una de las variantes siguientes, interpretando los resultados:**\n",
        "\n",
        "**- Utilizando determinante recursivo.**\n",
        "**- Empleando determinante gauss.**\n",
        "**- Haciendo uso de la función preprogramada numpy.linalg.det.**"
      ]
    },
    {
      "cell_type": "code",
      "execution_count": null,
      "id": "fa9a1dbf-0662-4ab7-bbd5-c8176f79b81f",
      "metadata": {
        "id": "fa9a1dbf-0662-4ab7-bbd5-c8176f79b81f"
      },
      "outputs": [],
      "source": [
        "\n",
        "resultados = []\n",
        "\n",
        "def comparar_tiempos(orden_matriz):\n",
        "    matriz_np = np.random.rand(orden_matriz, orden_matriz)\n",
        "    matriz = matriz_np.tolist()\n",
        "\n",
        "    # Gauss\n",
        "    start_gauss = time.time()\n",
        "    det_gauss = determinante_gauss(matriz)\n",
        "    end_gauss = time.time()\n",
        "    tiempo_gauss = end_gauss - start_gauss\n",
        "\n",
        "    # Recursivo\n",
        "    start_rec = time.time()\n",
        "    det_rec = determinante_recursivo(matriz)\n",
        "    end_rec = time.time()\n",
        "    tiempo_rec = end_rec - start_rec\n",
        "\n",
        "    # NumPy\n",
        "    start_np = time.time()\n",
        "    det_np = np.linalg.det(matriz_np)\n",
        "    end_np = time.time()\n",
        "    tiempo_np = end_np - start_np\n",
        "\n",
        "\n",
        "    print(f\"Calculando tiempo por n = {n}\")\n",
        "    resultados.append((orden_matriz,tiempo_rec, tiempo_gauss, tiempo_np))\n",
        "    return resultados\n",
        "\n",
        "\n"
      ]
    },
    {
      "cell_type": "code",
      "execution_count": null,
      "id": "00933aab-c317-4b00-bae9-cf63e80a2103",
      "metadata": {
        "id": "00933aab-c317-4b00-bae9-cf63e80a2103",
        "outputId": "ddfc017f-59c0-4f92-da8b-d91aabf8d34e"
      },
      "outputs": [
        {
          "name": "stdout",
          "output_type": "stream",
          "text": [
            "Calculando tiempo por n = 2\n",
            "Calculando tiempo por n = 3\n",
            "Calculando tiempo por n = 4\n",
            "Calculando tiempo por n = 5\n",
            "Calculando tiempo por n = 6\n",
            "Calculando tiempo por n = 7\n",
            "Calculando tiempo por n = 8\n",
            "Calculando tiempo por n = 9\n",
            "Calculando tiempo por n = 10\n"
          ]
        },
        {
          "data": {
            "text/html": [
              "<div>\n",
              "<style scoped>\n",
              "    .dataframe tbody tr th:only-of-type {\n",
              "        vertical-align: middle;\n",
              "    }\n",
              "\n",
              "    .dataframe tbody tr th {\n",
              "        vertical-align: top;\n",
              "    }\n",
              "\n",
              "    .dataframe thead th {\n",
              "        text-align: right;\n",
              "    }\n",
              "</style>\n",
              "<table border=\"1\" class=\"dataframe\">\n",
              "  <thead>\n",
              "    <tr style=\"text-align: right;\">\n",
              "      <th></th>\n",
              "      <th>n</th>\n",
              "      <th>Recursivo (s)</th>\n",
              "      <th>Gauss (s)</th>\n",
              "      <th>NumPy (s)</th>\n",
              "    </tr>\n",
              "  </thead>\n",
              "  <tbody>\n",
              "    <tr>\n",
              "      <th>0</th>\n",
              "      <td>2</td>\n",
              "      <td>0.000000</td>\n",
              "      <td>0.0</td>\n",
              "      <td>0.0</td>\n",
              "    </tr>\n",
              "    <tr>\n",
              "      <th>1</th>\n",
              "      <td>3</td>\n",
              "      <td>0.000000</td>\n",
              "      <td>0.0</td>\n",
              "      <td>0.0</td>\n",
              "    </tr>\n",
              "    <tr>\n",
              "      <th>2</th>\n",
              "      <td>4</td>\n",
              "      <td>0.000000</td>\n",
              "      <td>0.0</td>\n",
              "      <td>0.0</td>\n",
              "    </tr>\n",
              "    <tr>\n",
              "      <th>3</th>\n",
              "      <td>5</td>\n",
              "      <td>0.000000</td>\n",
              "      <td>0.0</td>\n",
              "      <td>0.0</td>\n",
              "    </tr>\n",
              "    <tr>\n",
              "      <th>4</th>\n",
              "      <td>6</td>\n",
              "      <td>0.007919</td>\n",
              "      <td>0.0</td>\n",
              "      <td>0.0</td>\n",
              "    </tr>\n",
              "    <tr>\n",
              "      <th>5</th>\n",
              "      <td>7</td>\n",
              "      <td>0.016541</td>\n",
              "      <td>0.0</td>\n",
              "      <td>0.0</td>\n",
              "    </tr>\n",
              "    <tr>\n",
              "      <th>6</th>\n",
              "      <td>8</td>\n",
              "      <td>0.099912</td>\n",
              "      <td>0.0</td>\n",
              "      <td>0.0</td>\n",
              "    </tr>\n",
              "    <tr>\n",
              "      <th>7</th>\n",
              "      <td>9</td>\n",
              "      <td>0.757241</td>\n",
              "      <td>0.0</td>\n",
              "      <td>0.0</td>\n",
              "    </tr>\n",
              "    <tr>\n",
              "      <th>8</th>\n",
              "      <td>10</td>\n",
              "      <td>7.814697</td>\n",
              "      <td>0.0</td>\n",
              "      <td>0.0</td>\n",
              "    </tr>\n",
              "  </tbody>\n",
              "</table>\n",
              "</div>"
            ],
            "text/plain": [
              "    n  Recursivo (s)  Gauss (s)  NumPy (s)\n",
              "0   2       0.000000        0.0        0.0\n",
              "1   3       0.000000        0.0        0.0\n",
              "2   4       0.000000        0.0        0.0\n",
              "3   5       0.000000        0.0        0.0\n",
              "4   6       0.007919        0.0        0.0\n",
              "5   7       0.016541        0.0        0.0\n",
              "6   8       0.099912        0.0        0.0\n",
              "7   9       0.757241        0.0        0.0\n",
              "8  10       7.814697        0.0        0.0"
            ]
          },
          "metadata": {},
          "output_type": "display_data"
        }
      ],
      "source": [
        "for n in range(2, 11):\n",
        "    comparar_tiempos(n)\n",
        "\n",
        "df = pd.DataFrame(resultados, columns=[\"n\", \"Recursivo (s)\", \"Gauss (s)\", \"NumPy (s)\"])\n",
        "display(df)"
      ]
    },
    {
      "cell_type": "markdown",
      "id": "cfba5c75-9b4d-41c7-9e25-cecde15273d7",
      "metadata": {
        "id": "cfba5c75-9b4d-41c7-9e25-cecde15273d7"
      },
      "source": [
        "Veo una diferencia muy evidente entre el metodo recursivo y el metodo de Gauss o NumPy pero no veo ninguna entre Gauss y NumPy. Supongo que es devido a que son matrices relativamente pequeñas y las dos funciones son muy buenas, es por este motivo que voy a intentar compararlas con matrices mas grandes para ver alguna diferencia.\n",
        "\n",
        "Para evitar tiempos de ejecucion demasiado grandes, voy a crear una funcion que solo compare estas dos, eliminando el metodo recursivo."
      ]
    },
    {
      "cell_type": "code",
      "execution_count": null,
      "id": "a7ca2c01-bf3c-48e5-bd3f-81229ffa4de5",
      "metadata": {
        "id": "a7ca2c01-bf3c-48e5-bd3f-81229ffa4de5"
      },
      "outputs": [],
      "source": [
        "\n",
        "resultados = []\n",
        "def comparar_tiempos_Gauss_NumPy(orden_matriz):\n",
        "    #generar matriz\n",
        "    matriz_np = np.random.rand(orden_matriz, orden_matriz)\n",
        "    matriz = matriz_np.tolist()\n",
        "\n",
        "    # Gauss\n",
        "    start_gauss = time.time()\n",
        "    det_gauss = determinante_gauss(matriz)\n",
        "    end_gauss = time.time()\n",
        "    tiempo_gauss = end_gauss - start_gauss\n",
        "\n",
        "\n",
        "    # NumPy\n",
        "    start_np = time.time()\n",
        "    det_np = np.linalg.det(matriz_np)\n",
        "    end_np = time.time()\n",
        "    tiempo_np = end_np - start_np\n",
        "\n",
        "\n",
        "    print(f\"Calculando tiempo por n = {n}\")\n",
        "    resultados.append((orden_matriz, tiempo_gauss, tiempo_np))\n",
        "    return resultados"
      ]
    },
    {
      "cell_type": "code",
      "execution_count": null,
      "id": "37de4a55-f788-429a-b54d-cd1dafef724f",
      "metadata": {
        "id": "37de4a55-f788-429a-b54d-cd1dafef724f",
        "outputId": "eface7d1-ee59-4f38-8cbc-2f20986eae64"
      },
      "outputs": [
        {
          "name": "stdout",
          "output_type": "stream",
          "text": [
            "Calculando tiempo por n = 2\n",
            "Calculando tiempo por n = 12\n",
            "Calculando tiempo por n = 22\n",
            "Calculando tiempo por n = 32\n",
            "Calculando tiempo por n = 42\n",
            "Calculando tiempo por n = 52\n",
            "Calculando tiempo por n = 62\n",
            "Calculando tiempo por n = 72\n",
            "Calculando tiempo por n = 82\n",
            "Calculando tiempo por n = 92\n",
            "Calculando tiempo por n = 102\n",
            "Calculando tiempo por n = 112\n",
            "Calculando tiempo por n = 122\n",
            "Calculando tiempo por n = 132\n",
            "Calculando tiempo por n = 142\n",
            "Calculando tiempo por n = 152\n",
            "Calculando tiempo por n = 162\n",
            "Calculando tiempo por n = 172\n",
            "Calculando tiempo por n = 182\n",
            "Calculando tiempo por n = 192\n",
            "Calculando tiempo por n = 202\n",
            "Calculando tiempo por n = 212\n",
            "Calculando tiempo por n = 222\n",
            "Calculando tiempo por n = 232\n",
            "Calculando tiempo por n = 242\n",
            "Calculando tiempo por n = 252\n",
            "Calculando tiempo por n = 262\n",
            "Calculando tiempo por n = 272\n",
            "Calculando tiempo por n = 282\n",
            "Calculando tiempo por n = 292\n",
            "Calculando tiempo por n = 302\n"
          ]
        },
        {
          "data": {
            "text/html": [
              "<div>\n",
              "<style scoped>\n",
              "    .dataframe tbody tr th:only-of-type {\n",
              "        vertical-align: middle;\n",
              "    }\n",
              "\n",
              "    .dataframe tbody tr th {\n",
              "        vertical-align: top;\n",
              "    }\n",
              "\n",
              "    .dataframe thead th {\n",
              "        text-align: right;\n",
              "    }\n",
              "</style>\n",
              "<table border=\"1\" class=\"dataframe\">\n",
              "  <thead>\n",
              "    <tr style=\"text-align: right;\">\n",
              "      <th></th>\n",
              "      <th>n</th>\n",
              "      <th>Gauss (s)</th>\n",
              "      <th>NumPy (s)</th>\n",
              "    </tr>\n",
              "  </thead>\n",
              "  <tbody>\n",
              "    <tr>\n",
              "      <th>0</th>\n",
              "      <td>2</td>\n",
              "      <td>0.000000</td>\n",
              "      <td>0.000000</td>\n",
              "    </tr>\n",
              "    <tr>\n",
              "      <th>1</th>\n",
              "      <td>12</td>\n",
              "      <td>0.000000</td>\n",
              "      <td>0.000000</td>\n",
              "    </tr>\n",
              "    <tr>\n",
              "      <th>2</th>\n",
              "      <td>22</td>\n",
              "      <td>0.000000</td>\n",
              "      <td>0.000000</td>\n",
              "    </tr>\n",
              "    <tr>\n",
              "      <th>3</th>\n",
              "      <td>32</td>\n",
              "      <td>0.009994</td>\n",
              "      <td>0.000000</td>\n",
              "    </tr>\n",
              "    <tr>\n",
              "      <th>4</th>\n",
              "      <td>42</td>\n",
              "      <td>0.008942</td>\n",
              "      <td>0.000000</td>\n",
              "    </tr>\n",
              "    <tr>\n",
              "      <th>5</th>\n",
              "      <td>52</td>\n",
              "      <td>0.010366</td>\n",
              "      <td>0.000000</td>\n",
              "    </tr>\n",
              "    <tr>\n",
              "      <th>6</th>\n",
              "      <td>62</td>\n",
              "      <td>0.016700</td>\n",
              "      <td>0.000000</td>\n",
              "    </tr>\n",
              "    <tr>\n",
              "      <th>7</th>\n",
              "      <td>72</td>\n",
              "      <td>0.024068</td>\n",
              "      <td>0.000000</td>\n",
              "    </tr>\n",
              "    <tr>\n",
              "      <th>8</th>\n",
              "      <td>82</td>\n",
              "      <td>0.039981</td>\n",
              "      <td>0.000000</td>\n",
              "    </tr>\n",
              "    <tr>\n",
              "      <th>9</th>\n",
              "      <td>92</td>\n",
              "      <td>0.061157</td>\n",
              "      <td>0.000000</td>\n",
              "    </tr>\n",
              "    <tr>\n",
              "      <th>10</th>\n",
              "      <td>102</td>\n",
              "      <td>0.066067</td>\n",
              "      <td>0.000000</td>\n",
              "    </tr>\n",
              "    <tr>\n",
              "      <th>11</th>\n",
              "      <td>112</td>\n",
              "      <td>0.097917</td>\n",
              "      <td>0.000000</td>\n",
              "    </tr>\n",
              "    <tr>\n",
              "      <th>12</th>\n",
              "      <td>122</td>\n",
              "      <td>0.111107</td>\n",
              "      <td>0.000000</td>\n",
              "    </tr>\n",
              "    <tr>\n",
              "      <th>13</th>\n",
              "      <td>132</td>\n",
              "      <td>0.176106</td>\n",
              "      <td>0.000000</td>\n",
              "    </tr>\n",
              "    <tr>\n",
              "      <th>14</th>\n",
              "      <td>142</td>\n",
              "      <td>0.148882</td>\n",
              "      <td>0.000000</td>\n",
              "    </tr>\n",
              "    <tr>\n",
              "      <th>15</th>\n",
              "      <td>152</td>\n",
              "      <td>0.212122</td>\n",
              "      <td>0.000000</td>\n",
              "    </tr>\n",
              "    <tr>\n",
              "      <th>16</th>\n",
              "      <td>162</td>\n",
              "      <td>0.312468</td>\n",
              "      <td>0.000000</td>\n",
              "    </tr>\n",
              "    <tr>\n",
              "      <th>17</th>\n",
              "      <td>172</td>\n",
              "      <td>0.351526</td>\n",
              "      <td>0.000000</td>\n",
              "    </tr>\n",
              "    <tr>\n",
              "      <th>18</th>\n",
              "      <td>182</td>\n",
              "      <td>0.442415</td>\n",
              "      <td>0.000000</td>\n",
              "    </tr>\n",
              "    <tr>\n",
              "      <th>19</th>\n",
              "      <td>192</td>\n",
              "      <td>0.533307</td>\n",
              "      <td>0.000000</td>\n",
              "    </tr>\n",
              "    <tr>\n",
              "      <th>20</th>\n",
              "      <td>202</td>\n",
              "      <td>0.573172</td>\n",
              "      <td>0.000000</td>\n",
              "    </tr>\n",
              "    <tr>\n",
              "      <th>21</th>\n",
              "      <td>212</td>\n",
              "      <td>0.783195</td>\n",
              "      <td>0.000000</td>\n",
              "    </tr>\n",
              "    <tr>\n",
              "      <th>22</th>\n",
              "      <td>222</td>\n",
              "      <td>0.812174</td>\n",
              "      <td>0.000000</td>\n",
              "    </tr>\n",
              "    <tr>\n",
              "      <th>23</th>\n",
              "      <td>232</td>\n",
              "      <td>0.973202</td>\n",
              "      <td>0.000000</td>\n",
              "    </tr>\n",
              "    <tr>\n",
              "      <th>24</th>\n",
              "      <td>242</td>\n",
              "      <td>0.923416</td>\n",
              "      <td>0.000000</td>\n",
              "    </tr>\n",
              "    <tr>\n",
              "      <th>25</th>\n",
              "      <td>252</td>\n",
              "      <td>1.445754</td>\n",
              "      <td>0.000000</td>\n",
              "    </tr>\n",
              "    <tr>\n",
              "      <th>26</th>\n",
              "      <td>262</td>\n",
              "      <td>1.187209</td>\n",
              "      <td>0.000000</td>\n",
              "    </tr>\n",
              "    <tr>\n",
              "      <th>27</th>\n",
              "      <td>272</td>\n",
              "      <td>1.137738</td>\n",
              "      <td>0.000000</td>\n",
              "    </tr>\n",
              "    <tr>\n",
              "      <th>28</th>\n",
              "      <td>282</td>\n",
              "      <td>1.449204</td>\n",
              "      <td>0.008011</td>\n",
              "    </tr>\n",
              "    <tr>\n",
              "      <th>29</th>\n",
              "      <td>292</td>\n",
              "      <td>1.716563</td>\n",
              "      <td>0.000000</td>\n",
              "    </tr>\n",
              "    <tr>\n",
              "      <th>30</th>\n",
              "      <td>302</td>\n",
              "      <td>1.776050</td>\n",
              "      <td>0.009995</td>\n",
              "    </tr>\n",
              "  </tbody>\n",
              "</table>\n",
              "</div>"
            ],
            "text/plain": [
              "      n  Gauss (s)  NumPy (s)\n",
              "0     2   0.000000   0.000000\n",
              "1    12   0.000000   0.000000\n",
              "2    22   0.000000   0.000000\n",
              "3    32   0.009994   0.000000\n",
              "4    42   0.008942   0.000000\n",
              "5    52   0.010366   0.000000\n",
              "6    62   0.016700   0.000000\n",
              "7    72   0.024068   0.000000\n",
              "8    82   0.039981   0.000000\n",
              "9    92   0.061157   0.000000\n",
              "10  102   0.066067   0.000000\n",
              "11  112   0.097917   0.000000\n",
              "12  122   0.111107   0.000000\n",
              "13  132   0.176106   0.000000\n",
              "14  142   0.148882   0.000000\n",
              "15  152   0.212122   0.000000\n",
              "16  162   0.312468   0.000000\n",
              "17  172   0.351526   0.000000\n",
              "18  182   0.442415   0.000000\n",
              "19  192   0.533307   0.000000\n",
              "20  202   0.573172   0.000000\n",
              "21  212   0.783195   0.000000\n",
              "22  222   0.812174   0.000000\n",
              "23  232   0.973202   0.000000\n",
              "24  242   0.923416   0.000000\n",
              "25  252   1.445754   0.000000\n",
              "26  262   1.187209   0.000000\n",
              "27  272   1.137738   0.000000\n",
              "28  282   1.449204   0.008011\n",
              "29  292   1.716563   0.000000\n",
              "30  302   1.776050   0.009995"
            ]
          },
          "metadata": {},
          "output_type": "display_data"
        }
      ],
      "source": [
        "for n in range(2, 303, 10):\n",
        "    comparar_tiempos_Gauss_NumPy(n)\n",
        "\n",
        "df = pd.DataFrame(resultados, columns=[\"n\", \"Gauss (s)\", \"NumPy (s)\"])\n",
        "display(df)"
      ]
    },
    {
      "cell_type": "markdown",
      "id": "f78ea65b-cbbe-4d1b-a353-510539d96032",
      "metadata": {
        "id": "f78ea65b-cbbe-4d1b-a353-510539d96032"
      },
      "source": [
        "De esta manera he podido constatar tambien la diferencia entre el metodo de Gauss con pivoteo parcial y la funcion de Numpy, que cuando n=302 gauss tarda 1.68s y en cambio NumPy sigue estando en practicamente 0.\n",
        "\n",
        "Esto evidencia que sigue habiendo una gran diferencia pero hemos podido mejorar mucho el metodo recursivo, que para calcular una matriz n=302 tardaria un tiempo extremadamente grande."
      ]
    },
    {
      "cell_type": "markdown",
      "id": "25b67533-e2c6-40cc-b6dd-25a90fb18c9b",
      "metadata": {
        "id": "25b67533-e2c6-40cc-b6dd-25a90fb18c9b"
      },
      "source": [
        "**2. En este ejercicio trabajaremos con el método de descenso de gradiente, el cual constituye otra herramienta crucial, en esta ocasión de la rama del cálculo, para el proceso de retropropagación asociado al entrenamiento de una red neuronal.**\n"
      ]
    },
    {
      "cell_type": "markdown",
      "id": "97b8b8a7-17e2-41d2-a777-3d564be086ab",
      "metadata": {
        "id": "97b8b8a7-17e2-41d2-a777-3d564be086ab"
      },
      "source": [
        "**a) [1 punto] Prográmese en Python el método de descenso de gradiente para funciones de n variables. La función deberá tener como parámetros de entradas:**\n",
        "\n",
        "**- El gradiente de la función que se desea minimizar ∇f (puede venir dada como otra función previamente implementada, grad_f, con entrada un vector, representando el punto donde se quiere calcular el gradiente, y salida otro vector, representando el gradiente de f en dicho punto).**\n",
        "\n",
        "**- Un valor inicial x0 ∈ Rn (almacenado en un vector de n componentes).**\n",
        "\n",
        "**- El ratio de aprendizaje γ (que se asume constante para cada iteración).**\n",
        "\n",
        "**- Un parámetro de tolerancia tol (con el que finalizar el proceso cuando ∥∇f(x)∥2 < tol).**\n",
        "\n",
        "**- Un número máximo de iteraciones maxit (con el fin de evitar ejecuciones indefinidas en caso de divergencia o convergencia muy lenta).**\n",
        "\n",
        "**La salida de la función deberá ser la aproximación del x que cumple f′(x) ≈ 0, correspondiente a la última iteración realizada en el método.**"
      ]
    },
    {
      "cell_type": "code",
      "execution_count": null,
      "id": "20313815-9a96-4f21-847c-46fe0ad04b75",
      "metadata": {
        "id": "20313815-9a96-4f21-847c-46fe0ad04b75"
      },
      "outputs": [],
      "source": [
        "\n",
        "def descenso_gradiente(grad_f, x0, gamma, tol, maxit):\n",
        "\n",
        "    x = np.array(x0, dtype=float)\n",
        "\n",
        "    for i in range(maxit):\n",
        "        grad = grad_f(x)\n",
        "        norma_grad = np.linalg.norm(grad)\n",
        "\n",
        "        if norma_grad < tol:\n",
        "            print(f\"Convergencia alcanzada en {i} iteraciones.\")\n",
        "            return x\n",
        "\n",
        "        x = x - gamma * grad\n",
        "\n",
        "    return x\n"
      ]
    },
    {
      "cell_type": "code",
      "execution_count": null,
      "id": "8220b029-1554-4b40-9346-99b1c0ad48b7",
      "metadata": {
        "id": "8220b029-1554-4b40-9346-99b1c0ad48b7"
      },
      "outputs": [],
      "source": []
    },
    {
      "cell_type": "markdown",
      "id": "aa7cd646-5bf4-43b2-9769-47244ad627aa",
      "metadata": {
        "id": "aa7cd646-5bf4-43b2-9769-47244ad627aa"
      },
      "source": [
        "**b) Sea la función** $f : \\mathbb{R} \\rightarrow \\mathbb{R}$ **dada por**\n",
        "\n",
        "$$\n",
        "f(x) = 3x^4 + 4x^3 - 12x^2 + 7\n",
        "$$\n",
        "\n",
        "**i. [0.5 puntos] Aplica el método sobre** $f(x)$ **con** $x_0 = 3$, $\\gamma = 0.001$, **tolerancia** $= 10^{-12}$, **máximo de iteraciones** $= 10^5$.\n",
        "\n",
        "\n"
      ]
    },
    {
      "cell_type": "markdown",
      "id": "3f779944-2569-4c3a-8958-6255ec2da697",
      "metadata": {
        "id": "3f779944-2569-4c3a-8958-6255ec2da697"
      },
      "source": [
        "La derivada de la función es $$f'(x) = 12x^3 + 12x^2 - 24x $$"
      ]
    },
    {
      "cell_type": "code",
      "execution_count": null,
      "id": "c14c9757-ce7d-45ab-ab27-0512c91683a5",
      "metadata": {
        "id": "c14c9757-ce7d-45ab-ab27-0512c91683a5",
        "outputId": "72d70e32-e620-43a5-a748-ca7582a59825"
      },
      "outputs": [
        {
          "name": "stdout",
          "output_type": "stream",
          "text": [
            "Convergencia alcanzada en 831 iteraciones.\n",
            "Mínimo local: [1.]\n"
          ]
        }
      ],
      "source": [
        "\n",
        "def grad_f(x):\n",
        "    return np.array([12*x[0]**3 + 12*x[0]**2 - 24*x[0]])\n",
        "\n",
        "x0 = [3]\n",
        "gamma = 0.001\n",
        "tol = 1e-12\n",
        "maxit = int(1e5)\n",
        "resultado = descenso_gradiente(grad_f, x0, gamma,  tol, maxit)\n",
        "print(\"Mínimo local:\", resultado)"
      ]
    },
    {
      "cell_type": "markdown",
      "id": "244be2ce-6890-4373-8e15-15666074d616",
      "metadata": {
        "id": "244be2ce-6890-4373-8e15-15666074d616"
      },
      "source": [
        "**ii. [0.5 puntos] Aplica de nuevo el método sobre** $f(x)$ **con** $x_0 = 3$, $\\gamma = 0.01$, **tolerancia** $= 10^{-12}$, **máximo de iteraciones** $= 10^5$.\n"
      ]
    },
    {
      "cell_type": "code",
      "execution_count": null,
      "id": "5f583fb3-6162-429d-8422-38368361a35f",
      "metadata": {
        "id": "5f583fb3-6162-429d-8422-38368361a35f",
        "outputId": "8c0cea82-2277-4934-f7c4-8c82ce21885a"
      },
      "outputs": [
        {
          "name": "stdout",
          "output_type": "stream",
          "text": [
            "Convergencia alcanzada en 31 iteraciones.\n",
            "Mínimo local: [-2.]\n"
          ]
        }
      ],
      "source": [
        "x0 = [3]\n",
        "gamma = 0.01\n",
        "tol = 1e-12\n",
        "maxit = int(1e5)\n",
        "resultado = descenso_gradiente(grad_f, x0, gamma,  tol, maxit)\n",
        "print(\"Mínimo local:\", resultado)"
      ]
    },
    {
      "cell_type": "code",
      "execution_count": null,
      "id": "9d5db7d7-ecd7-4544-a0de-2953e800636e",
      "metadata": {
        "id": "9d5db7d7-ecd7-4544-a0de-2953e800636e"
      },
      "outputs": [],
      "source": []
    },
    {
      "cell_type": "markdown",
      "id": "f8c814ad-09ce-45b7-b76b-fe41e4a275de",
      "metadata": {
        "id": "f8c814ad-09ce-45b7-b76b-fe41e4a275de"
      },
      "source": [
        "\n",
        "**iii. [0.5 puntos] Contrasta e interpreta los dos resultados obtenidos en los apartados anteriores y compáralos con los mínimos locales obtenidos analíticamente. ¿Qué influencia puede llegar a tener la elección del ratio de aprendizaje** $\\gamma$**?**\n"
      ]
    },
    {
      "cell_type": "markdown",
      "id": "b29da5e9-217c-4517-bcb3-b866d05d0bc3",
      "metadata": {
        "id": "b29da5e9-217c-4517-bcb3-b866d05d0bc3"
      },
      "source": [
        "Derivando la función obtenemos $f'(x) = 12x^3 + 12x^2 - 24x $ y a partir de esta podemos encontrar los puntos criticos donde la función derivada es igual a cero. estos son:\n",
        "\n",
        "$$ x = 0, x = -2, x = 1 $$\n",
        "\n",
        "Calculamos la segunda derivada y obtenemos $ f''(x) = 36x^2 + 24x -24 $ y evaluamos en cada punto para saber si es un minimo o un maximo local.\n",
        "\n",
        "- En x = -2:\n",
        "  $f''(-2)=72 > 0 $ --> mínimo local\n",
        "  \n",
        "- En x = 0:\n",
        "  $f''(0)=-24 < 0 $ --> máximo local\n",
        "\n",
        "  - En x = 1:\n",
        "  $f''(1)=36 > 0 $ --> mínimo local\n",
        "\n",
        "Por lo tanto observamos que de las dos maneras encuentra un mínimo local (1 o -2) pero al cambiar el valor de gamma afecta en como de rapido avanza el algoritmo.\n",
        "\n",
        "Observamos que con gamma = 0,001 el algoritmo hace 831 iteraciones y en cambio con gamma = 0,01 el algoritmo solo hace 31.\n",
        "\n",
        "Vemos que con gamma = 0,01 el resultado ha sido mucho mas rapido pero puede afectar en el resultado ya que al hacer avances tan rapidos, es posible que se salte mínimos locales que la otra configuracion ha sido capaz de encontrar.\n",
        "\n",
        "Podemos concluir que la eleccion de gamma es un parametro muy importante ya que si es demasiado grande hace que quizas perdemos algun mínimo local, pero si es muy pequeño, puede hacer el calculo muy lento.\n"
      ]
    },
    {
      "cell_type": "markdown",
      "id": "fb91cb3a-5528-45e8-84ef-6f6967f8c205",
      "metadata": {
        "id": "fb91cb3a-5528-45e8-84ef-6f6967f8c205"
      },
      "source": [
        "\n",
        "**iv. [0.5 puntos] Aplica nuevamente el método sobre** $f(x)$ **con** $x_0 = 3$, $\\gamma = 0.1$, **tolerancia** $= 10^{-12}$, **máximo de iteraciones** $= 10^5$. **Interpreta el resultado.**\n",
        "\n"
      ]
    },
    {
      "cell_type": "code",
      "execution_count": null,
      "id": "75a789b8-c9b5-430d-b87f-93765761e266",
      "metadata": {
        "id": "75a789b8-c9b5-430d-b87f-93765761e266",
        "outputId": "6fc48569-1e6d-4135-abd8-9538d67a0766"
      },
      "outputs": [
        {
          "name": "stderr",
          "output_type": "stream",
          "text": [
            "C:\\Users\\User\\AppData\\Local\\Temp\\ipykernel_2388\\2844499521.py:2: RuntimeWarning: overflow encountered in scalar power\n",
            "  return np.array([12*x[0]**3 + 12*x[0]**2 - 24*x[0]])\n",
            "C:\\Users\\User\\AppData\\Local\\Temp\\ipykernel_2388\\2844499521.py:2: RuntimeWarning: invalid value encountered in scalar subtract\n",
            "  return np.array([12*x[0]**3 + 12*x[0]**2 - 24*x[0]])\n"
          ]
        },
        {
          "name": "stdout",
          "output_type": "stream",
          "text": [
            "Mínimo local: [nan]\n"
          ]
        }
      ],
      "source": [
        "x0 = [3]\n",
        "gamma = 0.1\n",
        "tol = 1e-12\n",
        "maxit = int(1e5)\n",
        "resultado = descenso_gradiente(grad_f, x0, gamma,  tol, maxit)\n",
        "print(\"Mínimo local:\", resultado)"
      ]
    },
    {
      "cell_type": "markdown",
      "id": "b524a6b1-cd71-4557-9d3b-e5fbe3d604e2",
      "metadata": {
        "id": "b524a6b1-cd71-4557-9d3b-e5fbe3d604e2"
      },
      "source": [
        "El programa devuelve un error ya que no ha podido encontrar ningun mínimo local. Esto ocurre cuando gamma es aun mas alta. Cuando empieza a ser grande se puede saltar algunos mínimos locales pero cuando lo es demasiado, hace que pierda todos los possibles candidatos y no encuentre ninguna solución."
      ]
    },
    {
      "cell_type": "markdown",
      "id": "fd1c2198-ab8f-4275-9308-068724f4738b",
      "metadata": {
        "id": "fd1c2198-ab8f-4275-9308-068724f4738b"
      },
      "source": [
        "\n",
        "**v. [0.5 puntos] Finalmente, aplica el método sobre** $f(x)$ **con** $x_0 = 0$, $\\gamma = 0.001$, **tolerancia** $= 10^{-12}$, **máximo de iteraciones** $= 10^5$. **Interpreta el resultado y compáralo con el estudio analítico de** $f$. **¿Se trata de un resultado deseable? ¿Por qué? ¿A qué se debe este fenómeno?**"
      ]
    },
    {
      "cell_type": "code",
      "execution_count": null,
      "id": "3d145ff1-a3b5-4da6-a3e4-29e364b00c9d",
      "metadata": {
        "id": "3d145ff1-a3b5-4da6-a3e4-29e364b00c9d",
        "outputId": "17babf67-c857-4f17-92bd-e878ff9eea1c"
      },
      "outputs": [
        {
          "name": "stdout",
          "output_type": "stream",
          "text": [
            "Convergencia alcanzada en 0 iteraciones.\n",
            "Mínimo local: [0.]\n"
          ]
        }
      ],
      "source": [
        "x0 = [0]\n",
        "gamma = 0.001\n",
        "tol = 1e-12\n",
        "maxit = int(1e5)\n",
        "resultado = descenso_gradiente(grad_f, x0, gamma,  tol, maxit)\n",
        "print(\"Mínimo local:\", resultado)"
      ]
    },
    {
      "cell_type": "markdown",
      "id": "a3a12490-4874-4554-aadc-9744629d9b4b",
      "metadata": {
        "id": "a3a12490-4874-4554-aadc-9744629d9b4b"
      },
      "source": [
        "Después de haber realizado el análisis analítico, puede resultar sorprendente que el algoritmo de descenso de gradiente devuelva como “mínimo local” el valor x=0, dado que sabemos que, en realidad, es un máximo local de la función.\n",
        "\n",
        "Sin embargo, esto tiene sentido y se explica por la definición y el funcionamiento del algoritmo de descenso de gradiente:\n",
        "\n",
        "El método busca avanzar en cada iteración en la dirección opuesta al gradiente para reducir la pendiente y acercarse a un punto donde la derivada sea cero (un punto crítico).\n",
        "\n",
        "En x=0, la pendiente o gradiente ya es exactamente cero, por lo que el algoritmo detecta que no hay “dirección para avanzar” y no realiza ninguna iteración.\n",
        "\n",
        "Por tanto, el algoritmo se detiene en ese punto, aunque sea un máximo local y no un mínimo.\n",
        "\n",
        "Esto significa que el descenso de gradiente no distingue entre mínimos, máximos o puntos de silla, solo identifica puntos donde la pendiente es cero. Por ello, el punto x=0 es un “falso mínimo” desde el punto de vista del algoritmo, aunque analíticamente sepamos que es un máximo local.\n",
        "\n"
      ]
    },
    {
      "cell_type": "markdown",
      "id": "9bc5a9d8-88d4-49fb-8487-1c4b510f3840",
      "metadata": {
        "id": "9bc5a9d8-88d4-49fb-8487-1c4b510f3840"
      },
      "source": [
        "**c) Sea la función** $g : \\mathbb{R}^2 \\rightarrow \\mathbb{R}$ **dada por**\n",
        "\n",
        "$$\n",
        "g(x, y) = x^2 + y^3 + 3xy + 1\n",
        "$$\n",
        "\n",
        "**i. [0.5 puntos] Aplíquese el método sobre** $g(x, y)$ **con** $x_0 = (-1, 1)$, $\\gamma = 0{.}01$, **tolerancia** $= 10^{-12}$, **máximo de iteraciones** $= 10^5$.\n"
      ]
    },
    {
      "cell_type": "markdown",
      "id": "57e72061-ceaa-4418-8411-caaefb35ae07",
      "metadata": {
        "id": "57e72061-ceaa-4418-8411-caaefb35ae07"
      },
      "source": [
        "Para calcular el gradiente necessitamos su función que viene dada por la derivada de g.\n",
        "\n",
        "$$\\nabla g(x, y) = \\left( \\frac{\\partial g}{\\partial x},\\ \\frac{\\partial g}{\\partial y} \\right) = \\left( 2x + 3y,\\ 3y^2 + 3x \\right)$$"
      ]
    },
    {
      "cell_type": "code",
      "execution_count": null,
      "id": "810c9b88-9f1d-45b5-81da-43c20859f5fa",
      "metadata": {
        "id": "810c9b88-9f1d-45b5-81da-43c20859f5fa",
        "outputId": "facfa028-a4d2-43a2-def7-dc202ce05a8e"
      },
      "outputs": [
        {
          "name": "stdout",
          "output_type": "stream",
          "text": [
            "Convergencia alcanzada en 3139 iteraciones.\n",
            "Mínimo local: [-2.25  1.5 ]\n"
          ]
        }
      ],
      "source": [
        "\n",
        "def grad_g(v):\n",
        "    x, y = v\n",
        "    return np.array([2 * x + 3 * y, 3 * y**2 + 3 * x])\n",
        "\n",
        "x0 = [-1, 1]\n",
        "gamma = 0.01\n",
        "tol = 1e-12\n",
        "maxit = int(1e5)\n",
        "\n",
        "resultado = descenso_gradiente(grad_g, x0, gamma, tol, maxit)\n",
        "print(\"Mínimo local:\", resultado)"
      ]
    },
    {
      "cell_type": "markdown",
      "id": "712e488e-5c1a-459a-9ee4-71fa8cadd47a",
      "metadata": {
        "id": "712e488e-5c1a-459a-9ee4-71fa8cadd47a"
      },
      "source": [
        "**ii. [0.5 puntos] ¿Qué ocurre si ahora partimos de** $x_0 = (0, 0)$**? ¿Se obtiene un resultado deseable?**"
      ]
    },
    {
      "cell_type": "code",
      "execution_count": null,
      "id": "a5c1fef4-be36-4bfe-8f60-b52f8c9478bb",
      "metadata": {
        "id": "a5c1fef4-be36-4bfe-8f60-b52f8c9478bb",
        "outputId": "8cbaf19c-99e6-4a66-9d09-d8bf0c993d7d"
      },
      "outputs": [
        {
          "name": "stdout",
          "output_type": "stream",
          "text": [
            "Convergencia alcanzada en 0 iteraciones.\n",
            "Mínimo local: [0. 0.]\n"
          ]
        }
      ],
      "source": [
        "x0 = [0, 0]\n",
        "gamma = 0.01\n",
        "tol = 1e-12\n",
        "maxit = int(1e5)\n",
        "\n",
        "resultado = descenso_gradiente(grad_g, x0, gamma, tol, maxit)\n",
        "print(\"Mínimo local:\", resultado)"
      ]
    },
    {
      "cell_type": "markdown",
      "id": "445f928e-76fd-4455-95e0-af46cf0ef394",
      "metadata": {
        "id": "445f928e-76fd-4455-95e0-af46cf0ef394"
      },
      "source": [
        "Obtenemos un resultado similar que en el quinto apartado del ejercicio anterior. En este punto nos encontramos en un punto critico de la funcion donde el gradiente ya es cero. Es por este motivo que el algoritmo no hace ninguna iteración y se queda en el mismo punto de incio, ya que la función tiene pendiente cero en este punto.\n",
        "\n",
        "Podemos decir entonces que no es un resultado deseable ya que no hemos encontrado ningún mínimo local."
      ]
    },
    {
      "cell_type": "markdown",
      "id": "e35575bb-24a2-4634-9dc4-a5d3e3bcd729",
      "metadata": {
        "id": "e35575bb-24a2-4634-9dc4-a5d3e3bcd729"
      },
      "source": [
        "**iii. [0.5 puntos] Realícese el estudio analítico de la función y utilícese para explicar y contrastar los resultados obtenidos en los dos apartados anteriores.**"
      ]
    },
    {
      "cell_type": "markdown",
      "id": "fceeedd4-2806-4588-9011-800ba6be0ac1",
      "metadata": {
        "id": "fceeedd4-2806-4588-9011-800ba6be0ac1"
      },
      "source": [
        "La función inicial g es:\n",
        "\n",
        "$$\n",
        "g(x,y) = x^2 + y^3 + 3xy + 1\n",
        "$$\n",
        "\n",
        "Y como hemos calculado antes, derivando obtenemos el siguiente gradiente:\n",
        "\n",
        "$$\n",
        "\\nabla g = (2x + 3y, \\; 3y^2 + 3x)\n",
        "$$\n",
        "\n",
        "Resolvemos el siguiente sistema de equaciones para obtener los puntos críticos:\n",
        "\n",
        "$$\n",
        "\\begin{cases}\n",
        "2x + 3y = 0 \\\\\n",
        "3y^2 + 3x = 0\n",
        "\\end{cases}\n",
        "$$\n",
        "\n",
        "Puntos criticos: $(0,0)$ y $\\left(-\\frac{9}{4}, \\frac{3}{2}\\right)$.\n",
        "\n",
        "Analizando la matriz Hessiana en esos puntos:\n",
        "\n",
        "- En $(0,0)$, hay un punto de silla (no mínimo).\n",
        "- En $\\left(-\\frac{9}{4}, \\frac{3}{2}\\right)$, hay un mínimo local.\n",
        "\n",
        "Por eso, si el descenso de gradiente parte de $(-1,1)$ converge al mínimo, mientras que si parte de $(0,0)$ se queda estancado en el punto de silla. Esto explica y concuerda con los resultados obtenidos en los dos anteriores apartados."
      ]
    },
    {
      "cell_type": "code",
      "execution_count": null,
      "id": "cdccb02e-bd5c-419c-b5cb-70ca54bb4532",
      "metadata": {
        "id": "cdccb02e-bd5c-419c-b5cb-70ca54bb4532"
      },
      "outputs": [],
      "source": []
    },
    {
      "cell_type": "code",
      "execution_count": null,
      "id": "477f52f7-af5c-4086-b0d8-d89915cceee3",
      "metadata": {
        "id": "477f52f7-af5c-4086-b0d8-d89915cceee3"
      },
      "outputs": [],
      "source": []
    }
  ],
  "metadata": {
    "kernelspec": {
      "display_name": "Python 3 (ipykernel)",
      "language": "python",
      "name": "python3"
    },
    "language_info": {
      "codemirror_mode": {
        "name": "ipython",
        "version": 3
      },
      "file_extension": ".py",
      "mimetype": "text/x-python",
      "name": "python",
      "nbconvert_exporter": "python",
      "pygments_lexer": "ipython3",
      "version": "3.12.7"
    },
    "colab": {
      "provenance": [],
      "include_colab_link": true
    }
  },
  "nbformat": 4,
  "nbformat_minor": 5
}